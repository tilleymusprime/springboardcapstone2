{
 "cells": [
  {
   "cell_type": "code",
   "execution_count": 1,
   "metadata": {},
   "outputs": [
    {
     "name": "stderr",
     "output_type": "stream",
     "text": [
      "C:\\Users\\tilleymusprime\\Anaconda3\\lib\\site-packages\\statsmodels\\compat\\pandas.py:56: FutureWarning: The pandas.core.datetools module is deprecated and will be removed in a future version. Please use the pandas.tseries module instead.\n",
      "  from pandas.core import datetools\n"
     ]
    }
   ],
   "source": [
    "import pandas as pd\n",
    "import numpy as np\n",
    "import statsmodels.api as sm\n",
    "from sklearn.model_selection import train_test_split\n",
    "from sklearn.ensemble import RandomForestClassifier\n",
    "from sklearn import metrics\n",
    "import matplotlib.pyplot as plt\n",
    "import seaborn as sns\n",
    "\n",
    "from sklearn.metrics import mean_squared_error\n",
    "import statsmodels.formula.api as smf\n",
    "from statsmodels.formula.api import OLS\n",
    "from statsmodels.tools.tools import add_constant\n",
    "from statsmodels.stats.outliers_influence import variance_inflation_factor\n",
    "from sklearn.model_selection import cross_val_score\n",
    "from sklearn.metrics import mean_absolute_error\n",
    "import scipy.stats as stats\n",
    "from statsmodels.graphics.tsaplots import plot_acf\n",
    "from scipy.stats import levene\n",
    "from statsmodels.stats.diagnostic import het_breuschpagan\n",
    "pd.options.mode.chained_assignment = None"
   ]
  },
  {
   "cell_type": "code",
   "execution_count": 2,
   "metadata": {},
   "outputs": [],
   "source": [
    "df = pd.read_csv('C:\\\\Users\\\\tilleymusprime\\\\Desktop\\\\capstone2_vif.csv')"
   ]
  },
  {
   "cell_type": "code",
   "execution_count": null,
   "metadata": {},
   "outputs": [],
   "source": []
  },
  {
   "cell_type": "code",
   "execution_count": 3,
   "metadata": {},
   "outputs": [
    {
     "data": {
      "text/plain": [
       "array(['Unnamed: 0', 'TARGET', 'EXT_SOURCE_3', 'EXT_SOURCE_2',\n",
       "       'EXT_SOURCE_1', 'DAYS_BIRTH',\n",
       "       'NAME_EDUCATION_TYPE_Higher education',\n",
       "       'CNT_DRAWINGS_ATM_CURRENT_y', 'NAME_INCOME_TYPE_Working',\n",
       "       'DAYS_DECISION', 'FLOORSMAX_MODE', 'CODE_GENDER_M',\n",
       "       'DAYS_LAST_PHONE_CHANGE',\n",
       "       'NAME_EDUCATION_TYPE_Secondary / secondary special',\n",
       "       'DAYS_INSTALMENT', 'AMT_DRAWINGS_ATM_CURRENT', 'DAYS_ID_PUBLISH',\n",
       "       'AMT_INST_MIN_REGULARITY', 'AMT_DOWN_PAYMENT', 'AMT_GOODS_PRICE_x',\n",
       "       'AMT_PAYMENT', 'ENTRANCES_MODE', 'NAME_INCOME_TYPE_Pensioner',\n",
       "       'CNT_DRAWINGS_POS_CURRENT', 'REGION_RATING_CLIENT_W_CITY',\n",
       "       'REG_CITY_NOT_WORK_CITY', 'HOUSETYPE_MODE_block of flats',\n",
       "       'FLAG_DOCUMENT_3', 'SELLERPLACE_AREA', 'AMT_DRAWINGS_POS_CURRENT',\n",
       "       'NONLIVINGAREA_MODE', 'ELEVATORS_MODE',\n",
       "       'DAYS_LAST_DUE_1ST_VERSION', 'BASEMENTAREA_AVG',\n",
       "       'OCCUPATION_TYPE_Laborers', 'OWN_CAR_AGE', 'FLOORSMIN_MODE',\n",
       "       'HOUR_APPR_PROCESS_START_y', 'CNT_DRAWINGS_OTHER_CURRENT',\n",
       "       'AMT_DRAWINGS_OTHER_CURRENT', 'AMT_PAYMENT_CURRENT', 'AMT_ANNUITY'],\n",
       "      dtype=object)"
      ]
     },
     "execution_count": 3,
     "metadata": {},
     "output_type": "execute_result"
    }
   ],
   "source": [
    "df.columns.values"
   ]
  },
  {
   "cell_type": "code",
   "execution_count": 4,
   "metadata": {},
   "outputs": [],
   "source": [
    "#First, we will create our independent variable\n",
    "X = df[['EXT_SOURCE_3', 'EXT_SOURCE_2',\n",
    "       'EXT_SOURCE_1', 'DAYS_BIRTH',\n",
    "       'NAME_EDUCATION_TYPE_Higher education',\n",
    "       'CNT_DRAWINGS_ATM_CURRENT_y', 'NAME_INCOME_TYPE_Working',\n",
    "       'DAYS_DECISION', 'FLOORSMAX_MODE', 'CODE_GENDER_M',\n",
    "       'DAYS_LAST_PHONE_CHANGE',\n",
    "       'NAME_EDUCATION_TYPE_Secondary / secondary special',\n",
    "       'DAYS_INSTALMENT', 'AMT_DRAWINGS_ATM_CURRENT', 'DAYS_ID_PUBLISH',\n",
    "       'AMT_INST_MIN_REGULARITY', 'AMT_DOWN_PAYMENT', 'AMT_GOODS_PRICE_x',\n",
    "       'AMT_PAYMENT', 'ENTRANCES_MODE', 'NAME_INCOME_TYPE_Pensioner',\n",
    "       'CNT_DRAWINGS_POS_CURRENT', 'REGION_RATING_CLIENT_W_CITY',\n",
    "       'REG_CITY_NOT_WORK_CITY', 'HOUSETYPE_MODE_block of flats',\n",
    "       'FLAG_DOCUMENT_3', 'SELLERPLACE_AREA', 'AMT_DRAWINGS_POS_CURRENT',\n",
    "       'NONLIVINGAREA_MODE', 'ELEVATORS_MODE',\n",
    "       'DAYS_LAST_DUE_1ST_VERSION', 'BASEMENTAREA_AVG',\n",
    "       'OCCUPATION_TYPE_Laborers', 'OWN_CAR_AGE', 'FLOORSMIN_MODE',\n",
    "       'HOUR_APPR_PROCESS_START_y', 'CNT_DRAWINGS_OTHER_CURRENT',\n",
    "       'AMT_DRAWINGS_OTHER_CURRENT', 'AMT_PAYMENT_CURRENT', 'AMT_ANNUITY']] "
   ]
  },
  {
   "cell_type": "code",
   "execution_count": 5,
   "metadata": {},
   "outputs": [],
   "source": [
    "y = df['TARGET']"
   ]
  },
  {
   "cell_type": "code",
   "execution_count": 6,
   "metadata": {},
   "outputs": [],
   "source": [
    "X_train, X_test, y_train, y_test = train_test_split(X, y, test_size=0.3)"
   ]
  },
  {
   "cell_type": "code",
   "execution_count": 7,
   "metadata": {},
   "outputs": [],
   "source": [
    "from sklearn.ensemble import RandomForestClassifier\n",
    "\n",
    "#Create a Gaussian Classifier\n",
    "clf=RandomForestClassifier(n_estimators=100)\n",
    "\n",
    "#Train the model using the training sets y_pred=clf.predict(X_test)\n",
    "clf.fit(X_train,y_train)\n",
    "\n",
    "y_pred=clf.predict(X_test)"
   ]
  },
  {
   "cell_type": "code",
   "execution_count": 8,
   "metadata": {},
   "outputs": [
    {
     "data": {
      "text/plain": [
       "array([0.05969447, 0.07933072, 0.03216939, 0.05825305, 0.00446721,\n",
       "       0.01477775, 0.00689725, 0.04991985, 0.01277749, 0.00797577,\n",
       "       0.04734565, 0.00510339, 0.05032728, 0.01267868, 0.05638933,\n",
       "       0.01266258, 0.03705536, 0.04401081, 0.05330351, 0.01610253,\n",
       "       0.00327018, 0.00880525, 0.00968543, 0.00717229, 0.00527097,\n",
       "       0.00657942, 0.04872319, 0.00764477, 0.01421025, 0.0067549 ,\n",
       "       0.05022711, 0.01850348, 0.00689276, 0.0193625 , 0.01037436,\n",
       "       0.04807081, 0.00260583, 0.00241841, 0.01225546, 0.04993056])"
      ]
     },
     "execution_count": 8,
     "metadata": {},
     "output_type": "execute_result"
    }
   ],
   "source": [
    "clf.feature_importances_"
   ]
  },
  {
   "cell_type": "code",
   "execution_count": 9,
   "metadata": {},
   "outputs": [
    {
     "name": "stdout",
     "output_type": "stream",
     "text": [
      "Accuracy: 0.9195026832438918\n"
     ]
    }
   ],
   "source": [
    "print(\"Accuracy:\",metrics.accuracy_score(y_test, y_pred))"
   ]
  },
  {
   "cell_type": "code",
   "execution_count": 10,
   "metadata": {},
   "outputs": [
    {
     "name": "stdout",
     "output_type": "stream",
     "text": [
      "Confusion matrix:\n",
      " [[27575    10]\n",
      " [ 2405    11]]\n"
     ]
    },
    {
     "data": {
      "image/png": "[encoded data removed]",
      "text/plain": [
       "<matplotlib.figure.Figure at 0x1b684589128>"
      ]
     },
     "metadata": {},
     "output_type": "display_data"
    }
   ],
   "source": [
    "from sklearn.metrics import confusion_matrix\n",
    "from matplotlib import pyplot as plt\n",
    "\n",
    "conf_mat = confusion_matrix(y_true=y_test, y_pred=y_pred)\n",
    "print('Confusion matrix:\\n', conf_mat)\n",
    "\n",
    "labels = ['Class 0', 'Class 1']\n",
    "fig = plt.figure()\n",
    "ax = fig.add_subplot(111)\n",
    "cax = ax.matshow(conf_mat, cmap=plt.cm.Blues)\n",
    "fig.colorbar(cax)\n",
    "ax.set_xticklabels([''] + labels)\n",
    "ax.set_yticklabels([''] + labels)\n",
    "plt.xlabel('Predicted')\n",
    "plt.ylabel('Expected')\n",
    "plt.show()"
   ]
  },
  {
   "cell_type": "code",
   "execution_count": 11,
   "metadata": {},
   "outputs": [
    {
     "name": "stdout",
     "output_type": "stream",
     "text": [
      "[0.91895405 0.91905405 0.91915404 0.91884594 0.91919596] 0.9190408087976019\n"
     ]
    }
   ],
   "source": [
    "from sklearn.model_selection import cross_val_score\n",
    "\n",
    "cv5 = cross_val_score(clf, X, y, cv=5)\n",
    "cvmean = np.mean(cv5)\n",
    "print(cv5, cvmean)"
   ]
  },
  {
   "cell_type": "code",
   "execution_count": 12,
   "metadata": {},
   "outputs": [
    {
     "name": "stdout",
     "output_type": "stream",
     "text": [
      "             precision    recall  f1-score   support\n",
      "\n",
      "          0       0.92      1.00      0.96     27585\n",
      "          1       0.52      0.00      0.01      2416\n",
      "\n",
      "avg / total       0.89      0.92      0.88     30001\n",
      "\n"
     ]
    }
   ],
   "source": [
    "from sklearn.metrics import classification_report\n",
    "print(classification_report(y_test, y_pred))"
   ]
  },
  {
   "cell_type": "code",
   "execution_count": null,
   "metadata": {},
   "outputs": [],
   "source": []
  },
  {
   "cell_type": "code",
   "execution_count": null,
   "metadata": {},
   "outputs": [],
   "source": []
  },
  {
   "cell_type": "code",
   "execution_count": 13,
   "metadata": {},
   "outputs": [],
   "source": [
    "##Well it looks like our model just decided to guess 0 for almost every data point.  \n",
    "#This is due to the large difference between payment problems and no payment problems\n",
    "#We will first try undersampling to see if that changes its approach"
   ]
  },
  {
   "cell_type": "code",
   "execution_count": 14,
   "metadata": {},
   "outputs": [
    {
     "name": "stdout",
     "output_type": "stream",
     "text": [
      "(91908, 42) (8093, 42)\n"
     ]
    }
   ],
   "source": [
    "count_class_0, count_class_1 = df.TARGET.value_counts()\n",
    "df_class_0 = df[df['TARGET'] == 0]\n",
    "df_class_1 = df[df['TARGET'] == 1]\n",
    "print(df_class_0.shape, df_class_1.shape)"
   ]
  },
  {
   "cell_type": "code",
   "execution_count": null,
   "metadata": {},
   "outputs": [],
   "source": []
  },
  {
   "cell_type": "code",
   "execution_count": 15,
   "metadata": {},
   "outputs": [
    {
     "name": "stdout",
     "output_type": "stream",
     "text": [
      "Random under-sampling:\n",
      "1    8093\n",
      "0    8093\n",
      "Name: TARGET, dtype: int64\n"
     ]
    }
   ],
   "source": [
    "df_class_0_under = df_class_0.sample(count_class_1)\n",
    "df_test_under = pd.concat([df_class_0_under, df_class_1], axis=0)\n",
    "\n",
    "print('Random under-sampling:')\n",
    "print(df_test_under.TARGET.value_counts())"
   ]
  },
  {
   "cell_type": "code",
   "execution_count": 16,
   "metadata": {},
   "outputs": [],
   "source": [
    "X = df_test_under[['EXT_SOURCE_3', 'EXT_SOURCE_2',\n",
    "       'EXT_SOURCE_1', 'DAYS_BIRTH',\n",
    "       'NAME_EDUCATION_TYPE_Higher education',\n",
    "       'CNT_DRAWINGS_ATM_CURRENT_y', 'NAME_INCOME_TYPE_Working',\n",
    "       'DAYS_DECISION', 'FLOORSMAX_MODE', 'CODE_GENDER_M',\n",
    "       'DAYS_LAST_PHONE_CHANGE',\n",
    "       'NAME_EDUCATION_TYPE_Secondary / secondary special',\n",
    "       'DAYS_INSTALMENT', 'AMT_DRAWINGS_ATM_CURRENT', 'DAYS_ID_PUBLISH',\n",
    "       'AMT_INST_MIN_REGULARITY', 'AMT_DOWN_PAYMENT', 'AMT_GOODS_PRICE_x',\n",
    "       'AMT_PAYMENT', 'ENTRANCES_MODE', 'NAME_INCOME_TYPE_Pensioner',\n",
    "       'CNT_DRAWINGS_POS_CURRENT', 'REGION_RATING_CLIENT_W_CITY',\n",
    "       'REG_CITY_NOT_WORK_CITY', 'HOUSETYPE_MODE_block of flats',\n",
    "       'FLAG_DOCUMENT_3', 'SELLERPLACE_AREA', 'AMT_DRAWINGS_POS_CURRENT',\n",
    "       'NONLIVINGAREA_MODE', 'ELEVATORS_MODE',\n",
    "       'DAYS_LAST_DUE_1ST_VERSION', 'BASEMENTAREA_AVG',\n",
    "       'OCCUPATION_TYPE_Laborers', 'OWN_CAR_AGE', 'FLOORSMIN_MODE',\n",
    "       'HOUR_APPR_PROCESS_START_y', 'CNT_DRAWINGS_OTHER_CURRENT',\n",
    "       'AMT_DRAWINGS_OTHER_CURRENT', 'AMT_PAYMENT_CURRENT', 'AMT_ANNUITY']] "
   ]
  },
  {
   "cell_type": "code",
   "execution_count": 17,
   "metadata": {},
   "outputs": [],
   "source": [
    "y = df_test_under['TARGET']"
   ]
  },
  {
   "cell_type": "code",
   "execution_count": 18,
   "metadata": {},
   "outputs": [],
   "source": [
    "X_train, X_test, y_train, y_test = train_test_split(X, y, test_size=0.3)"
   ]
  },
  {
   "cell_type": "code",
   "execution_count": 19,
   "metadata": {},
   "outputs": [],
   "source": [
    "from sklearn.ensemble import RandomForestClassifier\n",
    "\n",
    "#Create a Gaussian Classifier\n",
    "clf=RandomForestClassifier(n_estimators=100)\n",
    "\n",
    "#Train the model using the training sets y_pred=clf.predict(X_test)\n",
    "clf.fit(X_train,y_train)\n",
    "\n",
    "y_pred=clf.predict(X_test)"
   ]
  },
  {
   "cell_type": "code",
   "execution_count": 20,
   "metadata": {},
   "outputs": [
    {
     "name": "stdout",
     "output_type": "stream",
     "text": [
      "Accuracy: 0.6680395387149918\n"
     ]
    }
   ],
   "source": [
    "print(\"Accuracy:\",metrics.accuracy_score(y_test, y_pred))"
   ]
  },
  {
   "cell_type": "code",
   "execution_count": 21,
   "metadata": {},
   "outputs": [
    {
     "name": "stdout",
     "output_type": "stream",
     "text": [
      "Confusion matrix:\n",
      " [[1682  771]\n",
      " [ 841 1562]]\n"
     ]
    },
    {
     "data": {
      "image/png": "[encoded data removed]",
      "text/plain": [
       "<matplotlib.figure.Figure at 0x1b6886025c0>"
      ]
     },
     "metadata": {},
     "output_type": "display_data"
    }
   ],
   "source": [
    "from sklearn.metrics import confusion_matrix\n",
    "from matplotlib import pyplot as plt\n",
    "\n",
    "conf_mat = confusion_matrix(y_true=y_test, y_pred=y_pred)\n",
    "print('Confusion matrix:\\n', conf_mat)\n",
    "\n",
    "labels = ['Class 0', 'Class 1']\n",
    "fig = plt.figure()\n",
    "ax = fig.add_subplot(111)\n",
    "cax = ax.matshow(conf_mat, cmap=plt.cm.Blues)\n",
    "fig.colorbar(cax)\n",
    "ax.set_xticklabels([''] + labels)\n",
    "ax.set_yticklabels([''] + labels)\n",
    "plt.xlabel('Predicted')\n",
    "plt.ylabel('Expected')\n",
    "plt.show()"
   ]
  },
  {
   "cell_type": "code",
   "execution_count": 22,
   "metadata": {},
   "outputs": [
    {
     "data": {
      "text/plain": [
       "EXT_SOURCE_2                                         0.090437\n",
       "EXT_SOURCE_3                                         0.083090\n",
       "DAYS_BIRTH                                           0.060297\n",
       "DAYS_ID_PUBLISH                                      0.048843\n",
       "AMT_GOODS_PRICE_x                                    0.046436\n",
       "DAYS_LAST_PHONE_CHANGE                               0.046351\n",
       "AMT_PAYMENT                                          0.046137\n",
       "DAYS_DECISION                                        0.045420\n",
       "SELLERPLACE_AREA                                     0.045418\n",
       "DAYS_LAST_DUE_1ST_VERSION                            0.044625\n",
       "AMT_ANNUITY                                          0.043918\n",
       "DAYS_INSTALMENT                                      0.043693\n",
       "HOUR_APPR_PROCESS_START_y                            0.042408\n",
       "EXT_SOURCE_1                                         0.040821\n",
       "AMT_DOWN_PAYMENT                                     0.036255\n",
       "OWN_CAR_AGE                                          0.020360\n",
       "BASEMENTAREA_AVG                                     0.018508\n",
       "ENTRANCES_MODE                                       0.016015\n",
       "FLOORSMAX_MODE                                       0.014232\n",
       "NONLIVINGAREA_MODE                                   0.012903\n",
       "AMT_INST_MIN_REGULARITY                              0.012326\n",
       "CNT_DRAWINGS_ATM_CURRENT_y                           0.011472\n",
       "AMT_DRAWINGS_ATM_CURRENT                             0.010874\n",
       "FLOORSMIN_MODE                                       0.010834\n",
       "REGION_RATING_CLIENT_W_CITY                          0.010724\n",
       "AMT_PAYMENT_CURRENT                                  0.010234\n",
       "CODE_GENDER_M                                        0.009545\n",
       "NAME_EDUCATION_TYPE_Higher education                 0.008171\n",
       "NAME_INCOME_TYPE_Working                             0.008070\n",
       "ELEVATORS_MODE                                       0.007782\n",
       "FLAG_DOCUMENT_3                                      0.007731\n",
       "CNT_DRAWINGS_POS_CURRENT                             0.007164\n",
       "AMT_DRAWINGS_POS_CURRENT                             0.007076\n",
       "OCCUPATION_TYPE_Laborers                             0.006720\n",
       "REG_CITY_NOT_WORK_CITY                               0.006607\n",
       "NAME_EDUCATION_TYPE_Secondary / secondary special    0.006267\n",
       "HOUSETYPE_MODE_block of flats                        0.004606\n",
       "NAME_INCOME_TYPE_Pensioner                           0.004351\n",
       "AMT_DRAWINGS_OTHER_CURRENT                           0.001759\n",
       "CNT_DRAWINGS_OTHER_CURRENT                           0.001519\n",
       "dtype: float64"
      ]
     },
     "execution_count": 22,
     "metadata": {},
     "output_type": "execute_result"
    }
   ],
   "source": [
    "feature_imp = pd.Series(clf.feature_importances_, index= X.columns.values).sort_values(ascending=False)\n",
    "feature_imp.sort_values(ascending=False)"
   ]
  },
  {
   "cell_type": "code",
   "execution_count": 23,
   "metadata": {},
   "outputs": [],
   "source": [
    "dfunder = df_test_under[['EXT_SOURCE_2', 'EXT_SOURCE_3', 'DAYS_BIRTH', 'DAYS_ID_PUBLISH', 'SELLERPLACE_AREA', 'DAYS_LAST_DUE_1ST_VERSION',\n",
    "             'DAYS_DECISION', 'DAYS_LAST_PHONE_CHANGE', 'AMT_GOODS_PRICE_x', 'AMT_ANNUITY', 'DAYS_INSTALMENT', 'AMT_PAYMENT',\n",
    "             'HOUR_APPR_PROCESS_START_y']]\n",
    "#We will use these columns for the model since they have the highest importance (> 0.04)\n"
   ]
  },
  {
   "cell_type": "code",
   "execution_count": null,
   "metadata": {},
   "outputs": [],
   "source": []
  },
  {
   "cell_type": "code",
   "execution_count": 32,
   "metadata": {},
   "outputs": [],
   "source": [
    "#This model is less accurate but seems to be using both predicitons instead of just guessing 0 repeatedly"
   ]
  },
  {
   "cell_type": "code",
   "execution_count": 24,
   "metadata": {},
   "outputs": [
    {
     "name": "stdout",
     "output_type": "stream",
     "text": [
      "[0.66831377 0.67541692 0.6581223  0.66656366 0.66718171] 0.6671196720648114\n"
     ]
    }
   ],
   "source": [
    "from sklearn.model_selection import cross_val_score\n",
    "\n",
    "cv5 = cross_val_score(clf, X, y, cv=5)\n",
    "cv5mean = np.mean(cv5)\n",
    "print(cv5, cv5mean)"
   ]
  },
  {
   "cell_type": "code",
   "execution_count": 25,
   "metadata": {},
   "outputs": [
    {
     "name": "stdout",
     "output_type": "stream",
     "text": [
      "[0.66831377 0.67541692 0.6581223  0.66656366 0.66718171] 0.6671196720648114\n"
     ]
    }
   ],
   "source": [
    "cv10 = cross_val_score(clf, X, y, cv=10)\n",
    "cv10mean = np.mean(cv10)\n",
    "print(cv5, cv5mean)"
   ]
  },
  {
   "cell_type": "code",
   "execution_count": 26,
   "metadata": {},
   "outputs": [
    {
     "name": "stdout",
     "output_type": "stream",
     "text": [
      "             precision    recall  f1-score   support\n",
      "\n",
      "          0       0.67      0.69      0.68      2453\n",
      "          1       0.67      0.65      0.66      2403\n",
      "\n",
      "avg / total       0.67      0.67      0.67      4856\n",
      "\n"
     ]
    }
   ],
   "source": [
    "from sklearn.metrics import classification_report\n",
    "print(classification_report(y_test, y_pred))"
   ]
  },
  {
   "cell_type": "code",
   "execution_count": 27,
   "metadata": {},
   "outputs": [
    {
     "data": {
      "text/plain": [
       "EXT_SOURCE_2                                         0.090437\n",
       "EXT_SOURCE_3                                         0.083090\n",
       "DAYS_BIRTH                                           0.060297\n",
       "DAYS_ID_PUBLISH                                      0.048843\n",
       "AMT_GOODS_PRICE_x                                    0.046436\n",
       "DAYS_LAST_PHONE_CHANGE                               0.046351\n",
       "AMT_PAYMENT                                          0.046137\n",
       "DAYS_DECISION                                        0.045420\n",
       "SELLERPLACE_AREA                                     0.045418\n",
       "DAYS_LAST_DUE_1ST_VERSION                            0.044625\n",
       "AMT_ANNUITY                                          0.043918\n",
       "DAYS_INSTALMENT                                      0.043693\n",
       "HOUR_APPR_PROCESS_START_y                            0.042408\n",
       "EXT_SOURCE_1                                         0.040821\n",
       "AMT_DOWN_PAYMENT                                     0.036255\n",
       "OWN_CAR_AGE                                          0.020360\n",
       "BASEMENTAREA_AVG                                     0.018508\n",
       "ENTRANCES_MODE                                       0.016015\n",
       "FLOORSMAX_MODE                                       0.014232\n",
       "NONLIVINGAREA_MODE                                   0.012903\n",
       "AMT_INST_MIN_REGULARITY                              0.012326\n",
       "CNT_DRAWINGS_ATM_CURRENT_y                           0.011472\n",
       "AMT_DRAWINGS_ATM_CURRENT                             0.010874\n",
       "FLOORSMIN_MODE                                       0.010834\n",
       "REGION_RATING_CLIENT_W_CITY                          0.010724\n",
       "AMT_PAYMENT_CURRENT                                  0.010234\n",
       "CODE_GENDER_M                                        0.009545\n",
       "NAME_EDUCATION_TYPE_Higher education                 0.008171\n",
       "NAME_INCOME_TYPE_Working                             0.008070\n",
       "ELEVATORS_MODE                                       0.007782\n",
       "FLAG_DOCUMENT_3                                      0.007731\n",
       "CNT_DRAWINGS_POS_CURRENT                             0.007164\n",
       "AMT_DRAWINGS_POS_CURRENT                             0.007076\n",
       "OCCUPATION_TYPE_Laborers                             0.006720\n",
       "REG_CITY_NOT_WORK_CITY                               0.006607\n",
       "NAME_EDUCATION_TYPE_Secondary / secondary special    0.006267\n",
       "HOUSETYPE_MODE_block of flats                        0.004606\n",
       "NAME_INCOME_TYPE_Pensioner                           0.004351\n",
       "AMT_DRAWINGS_OTHER_CURRENT                           0.001759\n",
       "CNT_DRAWINGS_OTHER_CURRENT                           0.001519\n",
       "dtype: float64"
      ]
     },
     "execution_count": 27,
     "metadata": {},
     "output_type": "execute_result"
    }
   ],
   "source": [
    "feature_imp = pd.Series(clf.feature_importances_, index= X.columns.values).sort_values(ascending=False)\n",
    "feature_imp.sort_values(ascending=False)"
   ]
  },
  {
   "cell_type": "code",
   "execution_count": null,
   "metadata": {},
   "outputs": [],
   "source": []
  },
  {
   "cell_type": "code",
   "execution_count": null,
   "metadata": {},
   "outputs": [],
   "source": []
  },
  {
   "cell_type": "code",
   "execution_count": 28,
   "metadata": {},
   "outputs": [
    {
     "name": "stdout",
     "output_type": "stream",
     "text": [
      "Random over-sampling:\n",
      "1    91908\n",
      "0    91908\n",
      "Name: TARGET, dtype: int64\n"
     ]
    }
   ],
   "source": [
    "##Now let's look at oversampling\n",
    "df_class_1_over = df_class_1.sample(count_class_0, replace=True)\n",
    "df_test_over = pd.concat([df_class_0, df_class_1_over], axis=0)\n",
    "\n",
    "print('Random over-sampling:')\n",
    "print(df_test_over.TARGET.value_counts())"
   ]
  },
  {
   "cell_type": "code",
   "execution_count": 29,
   "metadata": {},
   "outputs": [],
   "source": [
    "X = df_test_over[['EXT_SOURCE_3', 'EXT_SOURCE_2',\n",
    "       'EXT_SOURCE_1', 'DAYS_BIRTH',\n",
    "       'NAME_EDUCATION_TYPE_Higher education',\n",
    "       'CNT_DRAWINGS_ATM_CURRENT_y', 'NAME_INCOME_TYPE_Working',\n",
    "       'DAYS_DECISION', 'FLOORSMAX_MODE', 'CODE_GENDER_M',\n",
    "       'DAYS_LAST_PHONE_CHANGE',\n",
    "       'NAME_EDUCATION_TYPE_Secondary / secondary special',\n",
    "       'DAYS_INSTALMENT', 'AMT_DRAWINGS_ATM_CURRENT', 'DAYS_ID_PUBLISH',\n",
    "       'AMT_INST_MIN_REGULARITY', 'AMT_DOWN_PAYMENT', 'AMT_GOODS_PRICE_x',\n",
    "       'AMT_PAYMENT', 'ENTRANCES_MODE', 'NAME_INCOME_TYPE_Pensioner',\n",
    "       'CNT_DRAWINGS_POS_CURRENT', 'REGION_RATING_CLIENT_W_CITY',\n",
    "       'REG_CITY_NOT_WORK_CITY', 'HOUSETYPE_MODE_block of flats',\n",
    "       'FLAG_DOCUMENT_3', 'SELLERPLACE_AREA', 'AMT_DRAWINGS_POS_CURRENT',\n",
    "       'NONLIVINGAREA_MODE', 'ELEVATORS_MODE',\n",
    "       'DAYS_LAST_DUE_1ST_VERSION', 'BASEMENTAREA_AVG',\n",
    "       'OCCUPATION_TYPE_Laborers', 'OWN_CAR_AGE', 'FLOORSMIN_MODE',\n",
    "       'HOUR_APPR_PROCESS_START_y', 'CNT_DRAWINGS_OTHER_CURRENT',\n",
    "       'AMT_DRAWINGS_OTHER_CURRENT', 'AMT_PAYMENT_CURRENT', 'AMT_ANNUITY']] "
   ]
  },
  {
   "cell_type": "code",
   "execution_count": 30,
   "metadata": {},
   "outputs": [],
   "source": [
    "y = df_test_over['TARGET']"
   ]
  },
  {
   "cell_type": "code",
   "execution_count": 31,
   "metadata": {},
   "outputs": [],
   "source": [
    "X_train, X_test, y_train, y_test = train_test_split(X, y, test_size=0.3)"
   ]
  },
  {
   "cell_type": "code",
   "execution_count": 32,
   "metadata": {},
   "outputs": [],
   "source": [
    "from sklearn.ensemble import RandomForestClassifier\n",
    "\n",
    "#Create a Gaussian Classifier\n",
    "clf=RandomForestClassifier(n_estimators=100)\n",
    "\n",
    "#Train the model using the training sets y_pred=clf.predict(X_test)\n",
    "clf.fit(X_train,y_train)\n",
    "\n",
    "y_pred=clf.predict(X_test)"
   ]
  },
  {
   "cell_type": "code",
   "execution_count": 33,
   "metadata": {},
   "outputs": [
    {
     "name": "stdout",
     "output_type": "stream",
     "text": [
      "Accuracy: 0.9957385075709493\n"
     ]
    }
   ],
   "source": [
    "print(\"Accuracy:\",metrics.accuracy_score(y_test, y_pred))"
   ]
  },
  {
   "cell_type": "code",
   "execution_count": 34,
   "metadata": {},
   "outputs": [
    {
     "name": "stdout",
     "output_type": "stream",
     "text": [
      "Confusion matrix:\n",
      " [[27301   225]\n",
      " [   10 27609]]\n"
     ]
    },
    {
     "data": {
      "image/png": "[encoded data removed]",
      "text/plain": [
       "<matplotlib.figure.Figure at 0x1b68c955080>"
      ]
     },
     "metadata": {},
     "output_type": "display_data"
    }
   ],
   "source": [
    "from sklearn.metrics import confusion_matrix\n",
    "from matplotlib import pyplot as plt\n",
    "\n",
    "conf_mat = confusion_matrix(y_true=y_test, y_pred=y_pred)\n",
    "print('Confusion matrix:\\n', conf_mat)\n",
    "\n",
    "labels = ['Class 0', 'Class 1']\n",
    "fig = plt.figure()\n",
    "ax = fig.add_subplot(111)\n",
    "cax = ax.matshow(conf_mat, cmap=plt.cm.Blues)\n",
    "fig.colorbar(cax)\n",
    "ax.set_xticklabels([''] + labels)\n",
    "ax.set_yticklabels([''] + labels)\n",
    "plt.xlabel('Predicted')\n",
    "plt.ylabel('Expected')\n",
    "plt.show()"
   ]
  },
  {
   "cell_type": "code",
   "execution_count": 35,
   "metadata": {},
   "outputs": [
    {
     "name": "stdout",
     "output_type": "stream",
     "text": [
      "             precision    recall  f1-score   support\n",
      "\n",
      "          0       1.00      0.99      1.00     27526\n",
      "          1       0.99      1.00      1.00     27619\n",
      "\n",
      "avg / total       1.00      1.00      1.00     55145\n",
      "\n"
     ]
    }
   ],
   "source": [
    "print(classification_report(y_test, y_pred))"
   ]
  },
  {
   "cell_type": "code",
   "execution_count": 36,
   "metadata": {},
   "outputs": [
    {
     "name": "stdout",
     "output_type": "stream",
     "text": [
      "[0.99741595 0.99774236 0.99706234 0.99684457 0.99681737] 0.9971765168309599\n"
     ]
    }
   ],
   "source": [
    "cv5 = cross_val_score(clf, X, y, cv=5)\n",
    "cv5mean = np.mean(cv5)\n",
    "print(cv5, cv5mean)"
   ]
  },
  {
   "cell_type": "code",
   "execution_count": 38,
   "metadata": {},
   "outputs": [
    {
     "name": "stdout",
     "output_type": "stream",
     "text": [
      "[0.99825917 0.99891198 0.99836797 0.99891198 0.99804156 0.99787836\n",
      " 0.99836797 0.99787836 0.99798694 0.99787813] 0.9982482413782041\n"
     ]
    }
   ],
   "source": [
    "cv10 = cross_val_score(clf, X, y, cv=10)\n",
    "cv10mean = np.mean(cv10)\n",
    "print(cv10, cv10mean)"
   ]
  },
  {
   "cell_type": "code",
   "execution_count": null,
   "metadata": {},
   "outputs": [],
   "source": [
    "feature_imp = pd.Series(clf.feature_importances_, index= X.columns.values).sort_values(ascending=False)\n",
    "feature_imp.sort_values(ascending=False)"
   ]
  },
  {
   "cell_type": "code",
   "execution_count": null,
   "metadata": {},
   "outputs": [],
   "source": [
    "##Wow!! This model gets both right almost all the time. This time, we've for sure solved credit modeling.\n",
    "#Let's test for overfitting just to make sure though"
   ]
  },
  {
   "cell_type": "code",
   "execution_count": 70,
   "metadata": {},
   "outputs": [],
   "source": []
  }
 ],
 "metadata": {
  "kernelspec": {
   "display_name": "Python 3",
   "language": "python",
   "name": "python3"
  },
  "language_info": {
   "codemirror_mode": {
    "name": "ipython",
    "version": 3
   },
   "file_extension": ".py",
   "mimetype": "text/x-python",
   "name": "python",
   "nbconvert_exporter": "python",
   "pygments_lexer": "ipython3",
   "version": "3.6.4"
  }
 },
 "nbformat": 4,
 "nbformat_minor": 2
}
